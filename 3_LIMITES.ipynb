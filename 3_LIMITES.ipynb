{
 "cells": [
  {
   "cell_type": "markdown",
   "id": "fb89f0ae",
   "metadata": {},
   "source": [
    "### <div style=\"text-align: center\">PRÁCTICA NO. 3:  LÍMITES</div>\n",
    "### <div style=\"text-align: center\">Competencia: 1. Números reales</div>\n",
    "Tema(s): 3.1 Noción de límite.\n",
    " | 3.2 Definición de límite de una función.\n",
    "| 3.3 Propiedades de los límites. | 3.4 Cálculo de límites. | 3.5 Límites laterales | 3.6 Límites infinitos y límites al infinito.\n",
    "\n",
    "**Cantidad de alumnos por equipo: 2** \n",
    "<div style=\"text-align: right\">Elaborado por: \n",
    "Ing Sergio A. Sifuentes Contreras\n",
    "   </div>\n",
    "<div style=\"text-align: right\"> \n",
    "L.M.A. Daniel Cardona Ríos\n",
    "   </div>"
   ]
  },
  {
   "cell_type": "markdown",
   "id": "2896d9ef",
   "metadata": {},
   "source": [
    "### 1.INTRODUCCIÓN\n",
    "La idea de límite sustenta las distintas ramas del cálculo. Por tanto, es necesario que se haga un estudio de estos con ayuda de python. El tipo especial de límite que se usa para encontrar rectas tangentes y velocidades da lugar a la idea del cálculo diferencial, la derivada.\n"
   ]
  },
  {
   "cell_type": "markdown",
   "id": "8234bb78",
   "metadata": {},
   "source": [
    "### 2. OBJETIVO (COMPETENCIA)\n",
    "\n",
    "Utiliza la definición de límite de funciones para determinar analíticamente la continuidad de una función en un punto o en un intervalo."
   ]
  },
  {
   "cell_type": "markdown",
   "id": "fa1b94e9",
   "metadata": {},
   "source": [
    "### 3. MARCO TEÓRICO\n",
    "Muchas de las funciones que se producen en la ciencia no están descritas por ecuaciones explícitas, sino que están definidas por datos experimentales. \n",
    "\n",
    "### Denición intuitiva de un límite\n",
    "Suponga que $f(x)$ está definida cuando $x$ está cerca del número a. (Esto signica que $f$ está definida en algún intervalo abierto que contiene a a, excepto posiblemente en a misma.) Entonces se\n",
    "escribe   $$\\lim_{x \\to a} f(x)=L$$\n",
    "y se dice que “el límite de $f(x)$, cuando $x$ tiende a $a$, es igual a $L$”\n",
    "si se puede hacer que los valores de $f(x)$ estén arbitrariamente cercanos a $L$ (tan\n",
    "cercanos a $L$ como se quiera), tomando valores de x suficientemente cerca de a (por\n",
    "ambos lados de a), pero no iguales a $a$.\n",
    "\n",
    "### Leyes de los límites \n",
    "Suponga que c es una constante y que los límites $$\\lim_{x \\to a} f(x)   \\ \\ \\ \\ \\   \\lim_{x \\to a} g(x)$$\n",
    "existen. Entonces\n",
    "\n",
    "| NO. |Ley | \n",
    "| :---         |  :---:         | \n",
    "|1. | $$\\lim_{x \\to a} [f(x)+g(x)]=\\lim_{x \\to a}f(x)+\\lim_{x \\to a}g(x)$$ \n",
    "| 2.   |  $$\\lim_{x \\to a} [f(x)-g(x)]=\\lim_{x \\to a}f(x)-\\lim_{x \\to a}g(x)$$   |  \n",
    "|3.     |  $$\\lim_{x \\to a} [cf(x)]=c\\lim_{x \\to a}f(x)$$      | \n",
    "|4.| $$\\lim_{x \\to a} [f(x)g(x)]=\\lim_{x \\to a}f(x)\\lim_{x \\to a}g(x)$$ |\n",
    "|5. |$$\\lim_{x \\to a} \\frac{f(x)}{g(x)}=\\frac{\\lim_{x \\to a}f(x)}{\\lim_{x \\to a}g(x)}$$ |\n",
    "\n",
    "### Límites Laterales\n",
    "Escribiremos la definición de límite lateral.\n",
    "### Definición de límites laterales\n",
    "Cuando se escribe \n",
    "$$\\lim_{x \\to a-} f(x)=L$$\n",
    "Se expresa que el límite por la izquierda de $f(x)$ cuando de aproxima a $a$ (o el límite de $f(x)$ cuando $x$ tiende a $a$ por la izquierda) es igual a $L$ si se puede hacer que los valores de $f(x)$ se acercana arbitrariamente a $L$, tanto como se quiera, tomando $x$ suficientemente cercanos a $a$, pero menores que $a$.\n",
    "### Módulo sympy\n",
    "Este módulo permite trabajar con Pyhton en modo simbólico, de forma que se puede trabajar de igual modo que con programas de cálculo simbólico como maxima o mathematica. Contiene todas las funciones de…nidas en math, aunque en algunos casos funciones con el mismo nombre dan lugar a resultados diferentes, es dcir, no es en realidad la misma función. El ejemplo paradigmatico es sqrt. Si tecleamos \n",
    "<div style=\"text-align: center\">from math import sqrt</div>\n",
    "<div style=\"text-align: center\">sqrt(2)</div>\n",
    "\n",
    "da la salida 1.4142135623730951 que es una aproximación del valor $\\sqrt2$. Si tecleamos ahora\n",
    "<div style=\"text-align: center\">from sympy import sqrt</div>\n",
    "\n",
    "<div style=\"text-align: center\">sqrt(2)</div>\n",
    "\n",
    "da la salida $\\sqrt2$, que es el valor real sin aproximaciones. Así, el módulo sympy permite trabajar en modo simbólico o precisión infinita, y permite hacer gran número de cálculos complejos como derivadas, integrales, resolver ecuaciones, dibujar funciones, etcétera. Vamos a ver en estas notas cómo hacer estas operaciones.\n",
    "De hecho, este módulo permite trabajar con variables que no están asignadas a números con la sentencia symbols. Por ejemplo, tecleamos \n",
    "<div style=\"text-align: center\">from sympy import symbols</div>\n",
    "<div style=\"text-align: center\">x, y= symbols(’x y’)</div>\n",
    "<div style=\"text-align: center\">expr=x+2*y</div>\n",
    "<div style=\"text-align: center\">expr-1+x</div>\n",
    "da la salida final: $$2x+2y-1$$. \n",
    "Es decir, se puede trabajar en forma simbólica y hacer diferentes operaciones. Veremos que es posible hacer mucho más.\n",
    "\n"
   ]
  },
  {
   "cell_type": "markdown",
   "id": "be6d11ad",
   "metadata": {},
   "source": [
    "### 4. PROCEDIMIENTO (DESCRIPCIÓN)\n",
    "### Límites\n",
    "Para el cálculo de límites tenemos la sentencia `limit(f(x), x, x0)`, donde $f(x)$ es la función, $x$ la variable y $x_0$ el punto donde queremos calcular el límite. Supongamos que queremos calcular $$\\lim_{x \\to a} \\frac{sinx}{x}$$\n",
    "Veamos cómo hacer este límite usando Python. En primer lugar, cargamos \n",
    "<div style=\"text-align: center\">from sympy import symbols</div>\n",
    "<div style=\"text-align: center\">x=symbols(’x ’)</div>\n",
    "<div style=\"text-align: center\">limit(sin(x)/x,x,0)</div>\n",
    "<div style=\"text-align: center\">1</div>\n",
    "\n",
    "donde **1** es el resultado. En la sentencia limit hay que explicitar la función, la variable y el punto donde queremos calcular el límite, separados por comas. Es posible hacer límites en $$\\infty$$ como muestra el siguiente ejemplo\n",
    "<div style=\"text-align: center\">from sympy import symbols, limit, oo</div>\n",
    "<div style=\"text-align: center\">x=symbols(’x ’)</div>\n",
    "<div style=\"text-align: center\">limit(x**2+1,x,oo)</div>\n",
    "<div style=\"text-align: center\">oo</div>\n",
    "\n",
    "### Límites Laterales\n",
    "\n",
    "Para escribir límites que se acercan ya sea por la derecha `Limit(f(x), x, a,'+')` ó por la izquierda `Limit(f(x), x, a,'-')`. \n",
    "\n",
    "\n",
    "\n",
    "\n",
    "\n",
    "\n",
    "\n",
    "\n",
    "\n",
    "\n"
   ]
  },
  {
   "cell_type": "markdown",
   "id": "cd5d4026",
   "metadata": {},
   "source": [
    "Ahora te presentamos el ejemplo en python, la operación se guardo en la variable l."
   ]
  },
  {
   "cell_type": "code",
   "execution_count": 7,
   "id": "3a43cffa",
   "metadata": {},
   "outputs": [
    {
     "data": {
      "text/latex": [
       "$\\displaystyle 1$"
      ],
      "text/plain": [
       "1"
      ]
     },
     "execution_count": 7,
     "metadata": {},
     "output_type": "execute_result"
    }
   ],
   "source": [
    "from sympy import symbols\n",
    "x=symbols('x')\n",
    "l=limit(sin(x)/x,x,0)\n",
    "l"
   ]
  },
  {
   "cell_type": "code",
   "execution_count": 10,
   "id": "1be36182",
   "metadata": {},
   "outputs": [
    {
     "data": {
      "text/latex": [
       "$\\displaystyle \\infty$"
      ],
      "text/plain": [
       "oo"
      ]
     },
     "execution_count": 10,
     "metadata": {},
     "output_type": "execute_result"
    }
   ],
   "source": [
    "from sympy import symbols, limit, oo\n",
    "l1=limit(x**2+1,x,oo)\n",
    "l1"
   ]
  },
  {
   "cell_type": "markdown",
   "id": "c2e0a459",
   "metadata": {},
   "source": [
    "Ejemplo para escribir y resolver límites laterales.\n"
   ]
  },
  {
   "cell_type": "code",
   "execution_count": 11,
   "id": "7ef57422",
   "metadata": {},
   "outputs": [
    {
     "data": {
      "text/latex": [
       "$\\displaystyle \\lim_{x \\to 0^-}\\left(\\frac{\\cos{\\left(x \\right)} - 1}{x}\\right)$"
      ],
      "text/plain": [
       "Limit((cos(x) - 1)/x, x, 0, dir='-')"
      ]
     },
     "execution_count": 11,
     "metadata": {},
     "output_type": "execute_result"
    }
   ],
   "source": [
    "expr = Limit((cos(x) - 1)/x, x, 0,'-')\n",
    "expr"
   ]
  },
  {
   "cell_type": "code",
   "execution_count": 13,
   "id": "25a58c23",
   "metadata": {},
   "outputs": [
    {
     "data": {
      "text/latex": [
       "$\\displaystyle \\lim_{x \\to 0^+}\\left(\\frac{\\cos{\\left(x \\right)} - 1}{x}\\right)$"
      ],
      "text/plain": [
       "Limit((cos(x) - 1)/x, x, 0)"
      ]
     },
     "execution_count": 13,
     "metadata": {},
     "output_type": "execute_result"
    }
   ],
   "source": [
    "expr = Limit((cos(x) - 1)/x, x, 0,'+')\n",
    "expr"
   ]
  },
  {
   "cell_type": "code",
   "execution_count": 14,
   "id": "5bc7abc6",
   "metadata": {},
   "outputs": [
    {
     "data": {
      "text/latex": [
       "$\\displaystyle 0$"
      ],
      "text/plain": [
       "0"
      ]
     },
     "execution_count": 14,
     "metadata": {},
     "output_type": "execute_result"
    }
   ],
   "source": [
    "expr.doit()"
   ]
  },
  {
   "cell_type": "markdown",
   "id": "457e77c2",
   "metadata": {},
   "source": [
    "el comando  `expr.doit()` es para evaluar el límite."
   ]
  },
  {
   "cell_type": "markdown",
   "id": "838410c9",
   "metadata": {},
   "source": [
    "### Actividad\n",
    "Calcular los siguientes límites de forma manual y los compruebas con Python:\n",
    "1. $$\\lim_{x \\to 0}\\frac{1-cos2x}{sinx^2}$$ \n",
    "2. $$\\lim_{x \\to \\infty}\\frac{logx}{x}$$\n",
    "3. $$\\lim_{x \\to 1}\\frac{1-x^2}{1-x}$$ \n",
    "4. $$\\lim_{x \\to 0}\\frac{1}{x}$$ "
   ]
  },
  {
   "cell_type": "markdown",
   "id": "9026bc91",
   "metadata": {},
   "source": [
    "### 5. RESULTADOS Y CONCLUSIONES\n",
    "\n",
    "- Entregar los ejercicios en forma manual.\n",
    "- El archivo de python.\n",
    "\n",
    "### Preguntas\n",
    "- Escribe de forma clara tus observaciones en está actividad al resolverlos en forma manual y en python.\n",
    "- ¿Cómo interpretas de forma individual la teoría de límites? \n"
   ]
  },
  {
   "cell_type": "markdown",
   "id": "7efe7207",
   "metadata": {},
   "source": [
    "### 6. REFERENCIAS BIBLIOGRÁFICAS\n",
    "\n",
    "- Curso impartido sobre python por parte del MC Osbaldo Aragón Banderas.\n",
    "- Python tutorial, versión 3.10.5 Guido van Rossum and the Python develelopment team.\n",
    "- Cálculo TrascendenteS Tempranas, Stewart James, octava edición, ed. Cengage.\n"
   ]
  }
 ],
 "metadata": {
  "kernelspec": {
   "display_name": "Python 3 (ipykernel)",
   "language": "python",
   "name": "python3"
  },
  "language_info": {
   "codemirror_mode": {
    "name": "ipython",
    "version": 3
   },
   "file_extension": ".py",
   "mimetype": "text/x-python",
   "name": "python",
   "nbconvert_exporter": "python",
   "pygments_lexer": "ipython3",
   "version": "3.9.13"
  }
 },
 "nbformat": 4,
 "nbformat_minor": 5
}
