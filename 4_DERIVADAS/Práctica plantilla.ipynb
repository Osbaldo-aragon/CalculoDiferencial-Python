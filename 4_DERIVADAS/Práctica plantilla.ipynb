{
 "cells": [
  {
   "cell_type": "markdown",
   "id": "33ea981e",
   "metadata": {},
   "source": [
    "### <div style=\"text-align: center\">PRÁCTICA NO. 1:  DESIGUALDADES</div>\n",
    "### <div style=\"text-align: center\">Competencia: 1. Números reales</div>\n",
    "Tema(s): 1.1.\tPropiedades de las desigualdades. | 1.2.\tResolución de desigualdades de primer y segundo grado con una incógnita. | 1.3.\tResolución de desigualdades que incluyan valor absoluto.\n",
    "\n",
    "Cantidad de alumnos por equipo: 2\n",
    "<div style=\"text-align: right\">Elaborado por: \n",
    "Marcial Saúl Garcia Chairez\n",
    "</div>"
   ]
  },
  {
   "cell_type": "markdown",
   "id": "31f32f38",
   "metadata": {},
   "source": [
    "### 1.INTRODUCCIÓN\n",
    "En esta práctica se pretende, en primer lugar, medir la característica estática de los diodos de potencia, obtenida punto a punto en un circuito rectificador simple (R-D). Se comparan los resultados obtenidos con medidas realizadas con diodos de red, potencia y Schottky respectivamente. En segundo lugar, se mide el comportamiento dinámico de los diferentes diodos ensayados, sometiéndolos a conmutaciones rápidas, resaltando los problemas en el corte asociados a la recuperación inversa para aquellos componentes con respuesta temporal lenta.\n"
   ]
  },
  {
   "cell_type": "markdown",
   "id": "ff97901a",
   "metadata": {},
   "source": [
    "### 2. OBJETIVO (COMPETENCIA)\n",
    "\n",
    "El alumno caracterizará el comportamiento estático y dinámico de diferentes diodos de potencia. Comparando los resultados se podrán obtener conclusiones en cuanto a los rangos de funcionamiento para polarizaciones directa e inversa, así como del tiempo de respuesta de cada uno de los dispositivos."
   ]
  },
  {
   "cell_type": "markdown",
   "id": "4e24ac5a",
   "metadata": {},
   "source": [
    "### 3. MARCO TEÓRICO\n",
    "En este apartado se debe especificar la teória necesaria para resolver la práctica, incluidas las `funciones necesarias`"
   ]
  },
  {
   "cell_type": "markdown",
   "id": "c79016f1",
   "metadata": {},
   "source": [
    "### 4. PROCEDIMIENTO (DESCRIPCIÓN)\n",
    "ejemplos para desarrollar la práctica"
   ]
  },
  {
   "cell_type": "markdown",
   "id": "7639c340",
   "metadata": {},
   "source": [
    "### 5. RESULTADOS Y CONCLUSIONES\n",
    "\n",
    "- Demostrar con evidencia los resultados obtenidos\n",
    "- Hacer preguntas que demuestren la elaboración de la práctica"
   ]
  },
  {
   "cell_type": "markdown",
   "id": "72254ddd",
   "metadata": {},
   "source": [
    "### 6. REFERENCIAS BIBLIOGRÁFICAS\n",
    "Referencias en formato APA"
   ]
  }
 ],
 "metadata": {
  "kernelspec": {
   "display_name": "Python 3 (ipykernel)",
   "language": "python",
   "name": "python3"
  },
  "language_info": {
   "codemirror_mode": {
    "name": "ipython",
    "version": 3
   },
   "file_extension": ".py",
   "mimetype": "text/x-python",
   "name": "python",
   "nbconvert_exporter": "python",
   "pygments_lexer": "ipython3",
   "version": "3.9.13"
  }
 },
 "nbformat": 4,
 "nbformat_minor": 5
}
