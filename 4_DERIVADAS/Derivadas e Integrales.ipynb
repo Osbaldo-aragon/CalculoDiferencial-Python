{
 "cells": [
  {
   "cell_type": "markdown",
   "id": "8bb240f8",
   "metadata": {},
   "source": [
    "# <div style=\"text-align: center; color: blue\">CURSO DE MATEMÁTICAS CON PYTHON</div>\n",
    "## <div style=\"text-align: center\">Ejercicio 12: Derivadas e Integrales</div>\n",
    "### <div style=\"text-align: center\">Elaborado por: Osbaldo Aragón, 19/ene/2023</div>"
   ]
  },
  {
   "cell_type": "markdown",
   "id": "3364a9c8",
   "metadata": {},
   "source": [
    "### Derivación\n",
    "Se puede derivar cualquier expreción SymPy usando   `diff(func,var)`. Ejemplos"
   ]
  },
  {
   "cell_type": "code",
   "execution_count": 63,
   "id": "a35a8849",
   "metadata": {},
   "outputs": [],
   "source": [
    "from sympy import diff, Symbol, sin\n",
    "\n",
    "x = Symbol('x')\n",
    "y = Symbol('y')"
   ]
  },
  {
   "cell_type": "markdown",
   "id": "66f057f3",
   "metadata": {},
   "source": [
    "Comprobar que:\n",
    "$$\n",
    "f(x) = \\sin(x)\\\\\n",
    "f'(x) = \\cos(x)\n",
    "$$"
   ]
  },
  {
   "cell_type": "code",
   "execution_count": 12,
   "id": "49ed5060",
   "metadata": {},
   "outputs": [
    {
     "data": {
      "text/latex": [
       "$\\displaystyle \\sin{\\left(x \\right)}$"
      ],
      "text/plain": [
       "sin(x)"
      ]
     },
     "execution_count": 12,
     "metadata": {},
     "output_type": "execute_result"
    }
   ],
   "source": [
    "fx = sin(x)\n",
    "fx"
   ]
  },
  {
   "cell_type": "code",
   "execution_count": 13,
   "id": "9fc9d5c0",
   "metadata": {},
   "outputs": [
    {
     "data": {
      "text/latex": [
       "$\\displaystyle \\cos{\\left(x \\right)}$"
      ],
      "text/plain": [
       "cos(x)"
      ]
     },
     "execution_count": 13,
     "metadata": {},
     "output_type": "execute_result"
    }
   ],
   "source": [
    "d_fx = diff(fx)\n",
    "d_fx"
   ]
  },
  {
   "cell_type": "markdown",
   "id": "aed3ed02",
   "metadata": {},
   "source": [
    "Es posible obtener derivadas de orden superior con el método  `diff(func,var,n)`"
   ]
  },
  {
   "cell_type": "code",
   "execution_count": 14,
   "id": "fe85bbda",
   "metadata": {},
   "outputs": [
    {
     "data": {
      "text/latex": [
       "$\\displaystyle \\sin{\\left(2 x \\right)}$"
      ],
      "text/plain": [
       "sin(2*x)"
      ]
     },
     "execution_count": 14,
     "metadata": {},
     "output_type": "execute_result"
    }
   ],
   "source": [
    "fx = sin(2*x)\n",
    "fx"
   ]
  },
  {
   "cell_type": "code",
   "execution_count": 15,
   "id": "6c860107",
   "metadata": {},
   "outputs": [
    {
     "data": {
      "text/latex": [
       "$\\displaystyle 2 \\cos{\\left(2 x \\right)}$"
      ],
      "text/plain": [
       "2*cos(2*x)"
      ]
     },
     "execution_count": 15,
     "metadata": {},
     "output_type": "execute_result"
    }
   ],
   "source": [
    "diff(fx,x,1)"
   ]
  },
  {
   "cell_type": "code",
   "execution_count": 16,
   "id": "0b573433",
   "metadata": {},
   "outputs": [
    {
     "data": {
      "text/latex": [
       "$\\displaystyle - 4 \\sin{\\left(2 x \\right)}$"
      ],
      "text/plain": [
       "-4*sin(2*x)"
      ]
     },
     "execution_count": 16,
     "metadata": {},
     "output_type": "execute_result"
    }
   ],
   "source": [
    "diff(fx,x,2)"
   ]
  },
  {
   "cell_type": "code",
   "execution_count": 17,
   "id": "b6255ce7",
   "metadata": {},
   "outputs": [
    {
     "data": {
      "text/latex": [
       "$\\displaystyle - 8 \\cos{\\left(2 x \\right)}$"
      ],
      "text/plain": [
       "-8*cos(2*x)"
      ]
     },
     "execution_count": 17,
     "metadata": {},
     "output_type": "execute_result"
    }
   ],
   "source": [
    "diff(fx,x,3)"
   ]
  },
  {
   "cell_type": "code",
   "execution_count": 26,
   "id": "b8495f09",
   "metadata": {
    "scrolled": true
   },
   "outputs": [
    {
     "data": {
      "text/latex": [
       "$\\displaystyle 1 - \\frac{x^{2}}{2} + \\frac{x^{4}}{24} + O\\left(x^{6}\\right)$"
      ],
      "text/plain": [
       "1 - x**2/2 + x**4/24 + O(x**6)"
      ]
     },
     "execution_count": 26,
     "metadata": {},
     "output_type": "execute_result"
    }
   ],
   "source": [
    "from sympy import series, cos, symbols\n",
    "st = series(cos(x),x) #Serie de Taylor\n",
    "st"
   ]
  },
  {
   "cell_type": "markdown",
   "id": "29414d44",
   "metadata": {},
   "source": [
    "Para realizar derivadas parciales se utiliza la funcion `part_deriv(func, var)`"
   ]
  },
  {
   "cell_type": "code",
   "execution_count": 27,
   "id": "c488daac",
   "metadata": {},
   "outputs": [
    {
     "data": {
      "text/latex": [
       "$\\displaystyle a^{2} + 5 a b - a \\cos{\\left(c \\right)} + b c^{8}$"
      ],
      "text/plain": [
       "a**2 + 5*a*b - a*cos(c) + b*c**8"
      ]
     },
     "execution_count": 27,
     "metadata": {},
     "output_type": "execute_result"
    }
   ],
   "source": [
    "a, b, c = symbols('a b c', real = True)\n",
    "f = 5*a*b - a*cos(c) + a**2+c**8*b\n",
    "f"
   ]
  },
  {
   "cell_type": "code",
   "execution_count": 29,
   "id": "4b7fa2f8",
   "metadata": {},
   "outputs": [
    {
     "data": {
      "text/latex": [
       "$\\displaystyle 2 a + 5 b - \\cos{\\left(c \\right)}$"
      ],
      "text/plain": [
       "2*a + 5*b - cos(c)"
      ]
     },
     "execution_count": 29,
     "metadata": {},
     "output_type": "execute_result"
    }
   ],
   "source": [
    "d_f = diff(f, a)\n",
    "d_f"
   ]
  },
  {
   "cell_type": "markdown",
   "id": "4de449f6",
   "metadata": {},
   "source": [
    "### Integración"
   ]
  },
  {
   "cell_type": "code",
   "execution_count": 30,
   "id": "12b47b11",
   "metadata": {},
   "outputs": [],
   "source": [
    "from sympy import integrate"
   ]
  },
  {
   "cell_type": "markdown",
   "id": "249fa32e",
   "metadata": {},
   "source": [
    "Determinar la siguiente integral:\n",
    "$$\n",
    "\\int 6x^5 dx\n",
    "$$"
   ]
  },
  {
   "cell_type": "code",
   "execution_count": 64,
   "id": "0cacbd1b",
   "metadata": {},
   "outputs": [
    {
     "data": {
      "text/latex": [
       "$\\displaystyle x^{6}$"
      ],
      "text/plain": [
       "x**6"
      ]
     },
     "execution_count": 64,
     "metadata": {},
     "output_type": "execute_result"
    }
   ],
   "source": [
    "integrate(6*x**5, x)"
   ]
  },
  {
   "cell_type": "markdown",
   "id": "3365c378",
   "metadata": {},
   "source": [
    "Es posible calcular integrales definidas\n",
    "$$\n",
    "\\int_{-1}^1 -x^2 dx\n",
    "$$"
   ]
  },
  {
   "cell_type": "code",
   "execution_count": 65,
   "id": "ff219f12",
   "metadata": {},
   "outputs": [
    {
     "data": {
      "text/latex": [
       "$\\displaystyle - x^{2}$"
      ],
      "text/plain": [
       "-x**2"
      ]
     },
     "execution_count": 65,
     "metadata": {},
     "output_type": "execute_result"
    }
   ],
   "source": [
    "f = -x**2\n",
    "f"
   ]
  },
  {
   "cell_type": "code",
   "execution_count": 36,
   "id": "5e6bd761",
   "metadata": {},
   "outputs": [
    {
     "data": {
      "text/latex": [
       "$\\displaystyle - \\frac{2}{3}$"
      ],
      "text/plain": [
       "-2/3"
      ]
     },
     "execution_count": 36,
     "metadata": {},
     "output_type": "execute_result"
    }
   ],
   "source": [
    "R = integrate(f,(x,-1,1))\n",
    "R"
   ]
  },
  {
   "cell_type": "code",
   "execution_count": 66,
   "id": "efed4dd5",
   "metadata": {},
   "outputs": [
    {
     "data": {
      "text/latex": [
       "$\\displaystyle -0.667$"
      ],
      "text/plain": [
       "-0.667"
      ]
     },
     "execution_count": 66,
     "metadata": {},
     "output_type": "execute_result"
    }
   ],
   "source": [
    "R.evalf(3) #3 decimales"
   ]
  }
 ],
 "metadata": {
  "kernelspec": {
   "display_name": "Python 3 (ipykernel)",
   "language": "python",
   "name": "python3"
  },
  "language_info": {
   "codemirror_mode": {
    "name": "ipython",
    "version": 3
   },
   "file_extension": ".py",
   "mimetype": "text/x-python",
   "name": "python",
   "nbconvert_exporter": "python",
   "pygments_lexer": "ipython3",
   "version": "3.9.13"
  }
 },
 "nbformat": 4,
 "nbformat_minor": 5
}
