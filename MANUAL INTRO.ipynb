{
 "cells": [
  {
   "cell_type": "markdown",
   "id": "121857d9",
   "metadata": {},
   "source": [
    "## <div style=\"text-align: center\">MANUAL DE PRÁCTICAS DE CÁLCULO DIFERENCIAL</div>\n",
    "### <div style=\"text-align: center\">COMO RESULTADO DEL CURSO DE MATEMÁTICAS CON PYTHON</div>\n",
    "#### <div style=\"text-align: center\">INSTITUTO TECNOLÓGICO SUPERIOR DE LA REGIÓN DE LOS LLANOS</div>\n",
    "\n",
    "<div style=\"text-align: center\">Elaborado por: \n",
    "Marcial Saúl Garcia Chairez | Sergio A. Sifuentes Contreras | Daniel Cardona Ríos | Julio Cesar Ibarra Almeda | Jose Luis Rodriguez Alvarez | Pablo Cesar Ibarra Nava \n",
    "</div>\n"
   ]
  },
  {
   "cell_type": "markdown",
   "id": "85c6edf9",
   "metadata": {},
   "source": [
    "### Introducción\n",
    "\n",
    "La característica más sobresaliente de la asignatura de Cálculo Diferencial es que en ella se estudian los conceptos sobre los que se construye todo el Cálculo: números reales, variable, función y límite.\n",
    "\n",
    "Utilizando estos tres conceptos se establece uno de los esenciales del Cálculo: la derivada, concepto que permite analizar razones de cambio entre dos variables, noción de trascendental importancia en las aplicaciones de la ingeniería.\n",
    "\n",
    "El siguiente manual de prácticas contiene los conceptos básicos para utilizar Python y Jupyter Notebook como herramienta para resolver problemas de cálculo diferencial con el uso de distintos algoritmos y funciones.\n",
    "\n",
    "El pilar en el que se sustenta es la interfaz web Jupyter Notebook, que aglutina la ejecución de código, inclusión de texto junto a ecuaciones en LaTeX (vía MathJax), video, y todo lo que se pueda visualizar con un navegador. Su funcionalidad, por otro lado, puede ser extendida gracias a herramientas como nbconvert , encargada de gestionar la conversión a formatos como LaTeX, PDF o presentaciones web basadas en Reveal.js, o ipywidgets que proporciona widgets interactivos dentro del documento.\n",
    "\n",
    "Su desarrollo ha sido patrocinado por compañías como Microsoft o Google así como impulsado por el proyecto de infraestructura europea Horizonte 2020 denominado OpenDreamKit. Su uso en entornos docentes ha crecido en popularidad debido a su gran Flexibilidad, fácil acceso a través del navegador y las posibilidades añadidas de separar el propio documento del núcleo de cálculo en el lenguaje escogido. Esta arquitectura permite abandonar la instalación local.\n",
    "\n",
    "El profesor puede hacer uso de un servidor externo (o su propio ordenador) para proporcionar a los estudiantes lecciones, presentaciones, o tareas interactivas. Esta característica permite eliminar\n",
    "una de las grandes barreras de acceso que se presentan al incluir un nuevo tipo de documento o programa, como es su instalación en el equipo personal del estudiante.\n",
    "\n",
    "Utilizando este tipo de documentos se pueden generar lecciones o material de apoyo al estudio individual ricos en contenido, así como material de trabajo colaborativo que incluya elementos de cálculo numérico."
   ]
  },
  {
   "cell_type": "markdown",
   "id": "dd42c3aa",
   "metadata": {},
   "source": [
    "### Jupyter Notebook\n",
    "El Proyecto Jupyter es una organización sin ánimo de lucro creada para \"desarrollar software de código abierto, estándares abiertos y servicios para computación interactiva en docenas de lenguajes de programación\". Creado a partir de IPython en 2014 por Fernando Pérez, el proyecto Jupyter soporta entornos de ejecución en varias docenas de lenguajes de programación.\n",
    "\n",
    "El nombre del proyecto Jupyter es una referencia a los tres lenguajes de programación principales soportados por Jupyter, que son Julia, Python y R, y también un homenaje a los cuadernos de Galileo que registran el descubrimiento de los satélites de Júpiter. El proyecto Jupyter ha desarrollado y respaldado los productos de computación interactiva Jupyter Notebook, JupyterHub y JupyterLab, la versión de próxima generación de Jupyter Notebook."
   ]
  },
  {
   "cell_type": "markdown",
   "id": "051fbf54",
   "metadata": {},
   "source": [
    "### Estructura de las Prácticas\n",
    "Cada práctica está estructurada para que el alumno resuelva ejercicios de los distintos temas de Cálculo Diferencial utilizando las librerias especializadas de Python, principalmente SymPy, Numpy y MatplotLib.\n",
    "\n",
    "- La introducción y objetivo de la práctica presentan de manera general cada una de las tématicas a tratar y los objetivos específicos alcanzables para los alumnos.\n",
    "\n",
    "\n",
    "- El Marco Teórico presenta la información necesaria para comprender la temática de la práctica, incluye los conceptos matemáticos y explicación de las funciones utilizadas\n",
    "\n",
    "\n",
    "- En el Procedimiento y se demuestra la resolución de distintos problemas, ademas se proponen ejercicios para que el alumno ponga en práctica los conocimientos adquiridos\n",
    "\n",
    "\n",
    "- Finalmente en resultados y concluciones el alumno deberá demostrar los conocimientos asimilados durante el desarrollo de la práctica\n",
    "\n",
    "\n"
   ]
  },
  {
   "cell_type": "markdown",
   "id": "5c58f837",
   "metadata": {},
   "source": [
    "### Python"
   ]
  },
  {
   "cell_type": "markdown",
   "id": "b0ef2ade",
   "metadata": {},
   "source": [
    "Entre las distintas alternativas de software libre dedicadas a la programación computacional , Python se ha convertido en una de las opciones más utilizadas. Por lo tanto, aprender este lenguaje de programación puede ser muy benéfico para los estudiantes en su formación. Además, hay una gran cantidad de módulos científicos que se importan fácilmente, y hace coincidir las capacidades de Python con las de software comercial.\n",
    "\n",
    "Las bibliotecas más relevantes en el entorno científico son:\n",
    "\n",
    "- SciPy: agrupa muchas funciones relevantes para cálculos numéricos.\n",
    "- NumPy: proporciona funciones específicas para cálculos vectoriales y matriciales.\n",
    "- SymPy: engloba todas las funciones necesarias para los cálculos simbólicos.\n",
    "- Matplotlib: contiene herramientas para gráficos 2D y 3D (similares a los de MATLAB).\n",
    "- Mayavi: biblioteca específica para gráficos 3D.\n",
    "- Pandas: biblioteca específica para la gestión y análisis de datos.\n",
    "\n",
    "Además de estas, existen numerosas bibliotecas diseñadas para necesidades específicas, como procesamiento de imágenes (openCV), aprendizaje automático (scikit-learn) y muchos más.\n"
   ]
  },
  {
   "cell_type": "markdown",
   "id": "f4466489",
   "metadata": {},
   "source": [
    "#### Comandos más comunes\n",
    "Ahora enumeraremos los comandos más comunes en Python para realizar operaciones científicas en Jupyter Notebook utilizando Python como kernel computacional.\n",
    "\n",
    "> El Kernel o núcleo, es una parte fundamental del sistema operativo que se encarga de conceder el acceso al hardware de forma segura para todo el software que lo solicita, el Kernel es una pequeña e invisible parte del sistema operativo, pero la más importante, ya que sin esta no podría funcionar.\n"
   ]
  },
  {
   "cell_type": "markdown",
   "id": "4d778503",
   "metadata": {},
   "source": [
    "#### Manejo de Librerías\n",
    "- **Importar todas las funciones contenidas en la librería:** tomando la librería NumPy como ejemplo, podemos escribir en el documento \n",
    "``` \n",
    "from numpy import *\n",
    "```\n",
    "Existen funciones distintas que aparecen en distintas librerías. Por lo que es importante usar el prefijo de cada una de forma independiente. Es muy común utilizar el prefijo `np` para la librería NumPy. De la siguiente manera\n",
    "```\n",
    "import numpy as np\n",
    "```\n",
    "- **Importar librería específica:** En ocaciones solo queremos llamar una funcion específica de la librería en lugar de la librería completa. Por ejemplo si queremos utilizar unicamente la funcion de coseno de NumPy, usariamos:\n",
    "```\n",
    "from numpy import cos\n",
    "```"
   ]
  },
  {
   "cell_type": "markdown",
   "id": "73095c1b",
   "metadata": {},
   "source": [
    "#### Comandos para cálculos numericos\n",
    "\n",
    "- **Help:** podemos obtener información relevante de una función específica al escribir `help(function)` o `function?`\n",
    "- **Imprimir en pantalla:** Para mostrar texto en pantalla o una variable al ejecutar una celda, podemos escribir:\n",
    "```\n",
    "print(\"Variable x es igual a:\")\n",
    "print(x)\n",
    "```\n"
   ]
  },
  {
   "cell_type": "code",
   "execution_count": null,
   "id": "fb0ab819",
   "metadata": {},
   "outputs": [],
   "source": []
  }
 ],
 "metadata": {
  "kernelspec": {
   "display_name": "Python 3 (ipykernel)",
   "language": "python",
   "name": "python3"
  },
  "language_info": {
   "codemirror_mode": {
    "name": "ipython",
    "version": 3
   },
   "file_extension": ".py",
   "mimetype": "text/x-python",
   "name": "python",
   "nbconvert_exporter": "python",
   "pygments_lexer": "ipython3",
   "version": "3.9.13"
  }
 },
 "nbformat": 4,
 "nbformat_minor": 5
}
