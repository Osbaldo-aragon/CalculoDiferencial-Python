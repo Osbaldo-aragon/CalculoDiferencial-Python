{
 "cells": [
  {
   "cell_type": "markdown",
   "id": "b62114fa",
   "metadata": {},
   "source": [
    "### <div style=\"text-align: center\">PRÁCTICA NO. 2:  GRÁFICA DE FUNCIONES Y EVALUACIÓN</div>\n",
    "### <div style=\"text-align: center\">Competencia 2. Funciones</div>\n",
    "\n",
    "Tema(s): 2.2. Función real de variable real y su representación gráfica. | 2.7. Operaciones con funciones: adición, multiplicación, división y composición.\n",
    "\n",
    "Cantidad de alumnos por equipo: 2\n",
    "<div style=\"text-align: right\">Elaborado por: \n",
    "José Luis Rodríguez-Álvarez\n",
    "</div>"
   ]
  },
  {
   "cell_type": "markdown",
   "id": "c811a286",
   "metadata": {},
   "source": [
    "### 1.INTRODUCCIÓN\n",
    "\n",
    "\n",
    "El concepto de **`función`** como un objeto matemático independiente, susceptible de ser estudiado por sí solo, no apareció hasta los inicios del cálculo en el siglo xvii (Dorronsoro y Hernández1996).\n",
    "\n",
    "\n",
    "En matemática, se dice que una magnitud es **`función`** de otra si el valor de la primera depende del valor de la segunda. Por tanto, una función es un objeto matemático que se utiliza para expresar la dependencia entre dos magnitudes, y puede presentarse a través de varios aspectos complementarios (Dorronsoro y Hernández1996). \n",
    "\n",
    "\n",
    "La definición general de **`función`** hace referencia a la dependencia entre los elementos de dos conjuntos dados.\n",
    "\n",
    "\n",
    "Dados dos conjuntos A y B, una **`función`** (también aplicación o mapeo) entre ellos es una asociación7 f que a cada elemento de A le asigna un único elemento de B.\n",
    "\n",
    "\n",
    "Se dice entonces que A es el dominio (también conjunto de partida o conjunto inicial) de f y que B es su codominio (también conjunto de llegada o conjunto final).\n",
    "\n",
    "\n",
    "En esta práctica se pretende, en primer lugar, que se obtengan las gráficas apoyado de **`Jupyter Notebook`** y mediante el uso de las diferentes librerías que se muestran en el ejemplo. Una vez que seas capaz de obtener los gráficos, tendrás la competencia para poder graficas cualquier modelo de algún fenómeno de estudio de tu interés.\n",
    "\n",
    "\n",
    "Por otro lado, se solicita que de manera manual evalúes las funciones dadas. Una vez que tengas los resultados, se solicita que apoyado con las librerías mostradas en el ejemplo, puedas aplicarlas para hacer la evaluación apoyado de **`Jupyter Notebook`**.\n"
   ]
  },
  {
   "cell_type": "markdown",
   "id": "beee89fc",
   "metadata": {},
   "source": [
    "### 2. OBJETIVO (COMPETENCIA)\n",
    "\n",
    "1. Analizar la definición de función e identifica tipos de funciones así como sus representaciones gráficas para plantear modelos. \n",
    "\n",
    "2. Evaluar y construir funciones nuevas a partir de otras de acuerdo a las funciones dadas."
   ]
  },
  {
   "cell_type": "markdown",
   "id": "d7020c6b",
   "metadata": {},
   "source": [
    "### 3. MARCO TEÓRICO"
   ]
  },
  {
   "cell_type": "markdown",
   "id": "9b5ae63e",
   "metadata": {},
   "source": [
    "### Funciones\n",
    "\n",
    "En matemáticas se usa una función para representar la dependencia de una cantidad respecto a otra.\n",
    "\n",
    "Una función es una regla que toma ciertos números como datos o entradas y asigna a cada uno un número definido de salida o resultado. El conjunto de todos los números de entrada se llama dominio de la función, y el conjunto de los números de salida que resultan se llama contra dominio o intervalo (algunas veces llamado rango) de la función (Piskunov, & Medkov, 1977).\n",
    "\n",
    "La entrada se puede llamar también variable independiente y la salida se llama variable dependiente.\n",
    "\n",
    "### Funciones nueavas a partir de otras\n",
    "\n",
    "Al multiplicar una función por una constante, `c`, se estira su gráfica en sentido vertical `(si c > 1)`, o se encoge en sentido vertical `(si 0 < c < 1)`. Un signo negativo `(si c < 0)` refleja la gráfica en el eje `x`, además de estirarla o encogerla.\n",
    "\n",
    "Si se sustituye y por `(y – k)` se traslada la gráfica `k` unidades hacia arriba si `k` es positiva, o hacia abajo si `k` es negativa.\n",
    "\n",
    "Si se sustituye `x` por `(x – h)` se traslada la gráfica `h` unidades hacia la derecha si `h` es positiva, o hacia la izquierda si `h` es negativa.  \n",
    "\n",
    "### Librerías para gráfica y evaluación de funciones \n",
    "\n",
    "En la siguiente liga puede consultar la documentación completa de `numpy` en [esta liga](https://numpy.org/doc/)\n",
    "\n",
    "En la siguiente liga puede consultar la documentación completa de `matplotlib.pyplot` en [esta liga](https://matplotlib.org/3.3.2/api/_as_gen/matplotlib.pyplot.html)\n",
    "\n",
    "En la siguiente liga puede consultar la documentación completa de `scipy.stats` en [esta liga](https://docs.scipy.org/doc/scipy/reference/stats.html)\n",
    "\n",
    "En la siguiente liga puede consultar la documentación completa de `sympy` en [esta liga](https://docs.sympy.org/latest/index.html)\n"
   ]
  },
  {
   "cell_type": "markdown",
   "id": "9922e426",
   "metadata": {},
   "source": [
    "### 4. PROCEDIMIENTO (DESCRIPCIÓN)\n"
   ]
  },
  {
   "cell_type": "markdown",
   "id": "86fd09a2",
   "metadata": {},
   "source": [
    "### a. Gráfica de Funciones\n",
    "\n",
    "- Importar las librerías.\n",
    "- Definir la función para establecer cuadriculado en el plano (preferentemente).\n",
    "- Asignar a una variable la información para presentar el espacio de trabajo.\n",
    "- Asignar a una variable la gráfica que se pretende mostrar (puede asignar tantas variables de acuerdo al número de gráficas que pretenda visualizar).\n",
    "- Definir la función que permitirá mostrar las gráfica.\n",
    "- Definir la función para presentar la información en el eje x.\n",
    "- Definir la función para presentar la información en el eje y.\n",
    "- Definir la función para presentar el nombre de las series graficadas.\n",
    "- Definir la función para visualizar la gráfica.\n",
    "- Revise el siguiente ejemplo..."
   ]
  },
  {
   "cell_type": "markdown",
   "id": "19fc3c37",
   "metadata": {},
   "source": [
    "### Ejemplo de Gráfica de Funciones\n",
    "Gráfica de la siguiente función:\n",
    "$ y = e^x + 5 $"
   ]
  },
  {
   "cell_type": "code",
   "execution_count": 5,
   "id": "99c7a98d",
   "metadata": {},
   "outputs": [],
   "source": [
    "# Importar las librerías.\n",
    "import numpy as np\n",
    "import matplotlib.pyplot as plt\n",
    "import scipy.stats as stats\n",
    "import sympy as sp"
   ]
  },
  {
   "cell_type": "code",
   "execution_count": 9,
   "id": "ba32388a",
   "metadata": {},
   "outputs": [
    {
     "data": {
      "image/png": "[encoded data removed]",
      "text/plain": [
       "<Figure size 432x288 with 1 Axes>"
      ]
     },
     "metadata": {
      "needs_background": "light"
     },
     "output_type": "display_data"
    }
   ],
   "source": [
    "# Definir la función para establecer cuadriculado en el plano (preferentemente).\n",
    "plt.grid(color = 'b', alpha = 0.5, linestyle = '--', linewidth = 0.5)\n",
    "\n",
    "# Asignar a una variable la información para presentar el espacio de trabajo.\n",
    "x = np.linspace(start = -4, stop = 4, num = 100)\n",
    "\n",
    "# Asignar a una variable la gráfica que se pretende mostrar (puede asignar tantas variables de acuerdo al número de gráficas que pretenda visualizar).\n",
    "y = 2.71**x + 5\n",
    "\n",
    "# Definir la función que permitirá mostrar las gráfica.\n",
    "plt.plot(x, y, label = 'Exponencial', linewidth = 2.5, color = 'r')\n",
    "\n",
    "# Definir la función para presentar la información en el eje x.\n",
    "plt.xlabel('x', fontsize = 15, color = 'b', fontstyle = 'normal')\n",
    "\n",
    "# Definir la función para presentar la información en el eje y.\n",
    "plt.ylabel('f(x)', fontsize = 15, color = 'b', fontstyle = 'normal')\n",
    "\n",
    "# Definir la función para presentar el nombre de las series graficadas.\n",
    "plt.legend(loc = 'best')\n",
    "\n",
    "# Definir la función para visualizar la gráfica.\n",
    "plt.show()"
   ]
  },
  {
   "cell_type": "markdown",
   "id": "956a2cd0",
   "metadata": {},
   "source": [
    "### Ejercicios de Práctica\n",
    "Dadas las siguientes funciones, obtén la gráfica para cada una. **Resolver** **usando** **Jupyter**.\n",
    "\n",
    "1. $\\ y = x $\n",
    "\n",
    "\n",
    "2. $\\ y = 2x - 3 $\n",
    "\n",
    "\n",
    "3. $\\ y = 4x +3 $\n",
    "\n",
    "\n",
    "4. $\\ y = x^2-2x+3 $\n",
    "\n",
    "\n",
    "5. $\\ y = -x^2+5x-2 $\n",
    "\n",
    "\n",
    "6. $\\ y = 7x^6 - 5x^8 + 9x^3 + 14x - 2 $\n",
    "\n",
    "\n",
    "7. $\\ y = \\frac{x^2-1}{3x^3+2} $\n",
    "\n",
    "\n",
    "8. $\\ y = sin(x) $\n",
    "\n",
    "\n",
    "9. $\\ y = cos(x) $\n",
    "\n",
    "\n",
    "10. $\\ y = sin^2(3x) $\n"
   ]
  },
  {
   "cell_type": "markdown",
   "id": "a482acfe",
   "metadata": {},
   "source": [
    "### b. Evaluación de Funciones\n",
    "\n",
    "- Importar las librerías.\n",
    "- Definir la variable independiente que se usará en las funciones.\n",
    "- Definir tantas funciones de acuerdo a la cantidad de funciones que se utilizarán en el proceso de evaluación.\n",
    "- Visualizar las funciones para comprobar que las escribiste correctamente.\n",
    "- Evaluar la función de acuerdo a lo solicitado.\n",
    "- Revise el siguiente ejemplo..."
   ]
  },
  {
   "cell_type": "code",
   "execution_count": 10,
   "id": "fb1c4144",
   "metadata": {},
   "outputs": [],
   "source": [
    "# Importar las librerías\n",
    "import sympy as sp\n",
    "import numpy as np"
   ]
  },
  {
   "cell_type": "code",
   "execution_count": 14,
   "id": "36191022",
   "metadata": {},
   "outputs": [
    {
     "data": {
      "text/latex": [
       "$\\displaystyle - 5 x^{8} + 7 x^{6} + 9 x^{3} + 14 x - 2$"
      ],
      "text/plain": [
       "-5*x**8 + 7*x**6 + 9*x**3 + 14*x - 2"
      ]
     },
     "execution_count": 14,
     "metadata": {},
     "output_type": "execute_result"
    }
   ],
   "source": [
    "# Definir la variable independiente que se usará en las funciones\n",
    "x = sp.Symbol ('x')\n",
    "\n",
    "# Definir tantas funciones de acuerdo a la cantidad de funciones que se utilizarán en el proceso de evaluación\n",
    "fx = 7*x**6 - 5*x**8 + 9*x**3 + 14*x - 2\n",
    "gx = x**2\n",
    "hx = x**3 + 1\n",
    "sx = 3\n",
    "\n",
    "# Visualizar las funciones para comprobar que las escribiste correctamente\n",
    "fx"
   ]
  },
  {
   "cell_type": "code",
   "execution_count": 15,
   "id": "5402b540",
   "metadata": {},
   "outputs": [
    {
     "data": {
      "text/latex": [
       "$\\displaystyle - 5 x^{16} + 7 x^{12} + 9 x^{6} + 14 x^{2} - 2$"
      ],
      "text/plain": [
       "-5*x**16 + 7*x**12 + 9*x**6 + 14*x**2 - 2"
      ]
     },
     "execution_count": 15,
     "metadata": {},
     "output_type": "execute_result"
    }
   ],
   "source": [
    "# Evaluar la función de acuerdo a lo solicitado ejemplo 1\n",
    "fx.subs(x, gx)"
   ]
  },
  {
   "cell_type": "code",
   "execution_count": 17,
   "id": "d0816b79",
   "metadata": {},
   "outputs": [
    {
     "data": {
      "text/latex": [
       "$\\displaystyle 28$"
      ],
      "text/plain": [
       "28"
      ]
     },
     "execution_count": 17,
     "metadata": {},
     "output_type": "execute_result"
    }
   ],
   "source": [
    "# Evaluar la función de acuerdo a lo solicitado ejemplo 2\n",
    "hx.subs(x, sx)"
   ]
  },
  {
   "cell_type": "markdown",
   "id": "66cb429d",
   "metadata": {},
   "source": [
    "### Ejercicios de Práctica\n",
    "Dadas las siguientes funciones, evalúa de acuerdo a lo solicitado. Resolver de forma **manual** **y** **usando** **Jupyter**.\n",
    "\n",
    "$ f(x) = x^2 + 3 $\n",
    "\n",
    "$ g(x) = ln(x + 2) $\n",
    "\n",
    "$ h(x) = e^{6x} + 2 $\n",
    "\n",
    "$ r(x) = -4 $\n",
    "\n",
    "\n",
    "Realice las siguientes evaluaciones:\n",
    "\n",
    "1. $\\ f(g(x)) $\n",
    "\n",
    "\n",
    "2. $\\ g(h(x)) $\n",
    "\n",
    "\n",
    "3. $\\ h(f(x)) $\n",
    "\n",
    "\n",
    "4. $\\ h(g(f(x))) $\n",
    "\n",
    "\n",
    "5. $\\ g(h(f(x))) $\n",
    "\n",
    "\n",
    "6. $\\ f(h(r(x))) $\n",
    "\n",
    "\n",
    "7. $\\ g(f(r(x))) $\n",
    "\n",
    "\n",
    "8. $\\ h(g(r(x))) $\n",
    "\n",
    "\n",
    "9. $\\ h(r(x))) $\n",
    "\n",
    "\n",
    "10. $\\ g(r(x))) $\n"
   ]
  },
  {
   "cell_type": "markdown",
   "id": "491b306d",
   "metadata": {},
   "source": [
    "### 5. RESULTADOS Y CONCLUSIONES"
   ]
  },
  {
   "cell_type": "markdown",
   "id": "2df6ea83",
   "metadata": {},
   "source": [
    "### Resultados gráfica de funciones\n",
    "- Deberás colocar la gráfica resultante para cada uno de las funciones."
   ]
  },
  {
   "cell_type": "code",
   "execution_count": null,
   "id": "6a7571ec",
   "metadata": {},
   "outputs": [],
   "source": []
  },
  {
   "cell_type": "markdown",
   "id": "03b21050",
   "metadata": {},
   "source": [
    "### Resultados evaluación de funciones\n",
    "- Deberás colocal la función o valor resultante de la evaluación."
   ]
  },
  {
   "cell_type": "code",
   "execution_count": null,
   "id": "fd63cbe0",
   "metadata": {},
   "outputs": [],
   "source": []
  },
  {
   "cell_type": "markdown",
   "id": "b5107839",
   "metadata": {},
   "source": [
    "### Conclusiones\n",
    "- Deberás colocar tus conclusiones generales."
   ]
  },
  {
   "cell_type": "code",
   "execution_count": null,
   "id": "8509f897",
   "metadata": {},
   "outputs": [],
   "source": []
  },
  {
   "cell_type": "markdown",
   "id": "e65e4098",
   "metadata": {},
   "source": [
    "### 6. REFERENCIAS BIBLIOGRÁFICAS\n",
    "1. Piskunov, N., & Medkov, K. (1977). Cálculo diferencial e integral (Vol. 1). Mir.\n",
    "2. J. D. Hunter, \"Matplotlib: A 2D Graphics Environment\", Computing in Science & Engineering, vol. 9, no. 3, pp. 90-95, 2007.\n",
    "3. Dorronsoro, Jorge; Hernández, Eugenio (1996). Números, grupos y anillos. Adison-Wesley Iberoamericana. ISBN 0-201-65395-8.\n",
    "4. https://numpy.org/doc/\n",
    "5. https://matplotlib.org/3.3.2/api/_as_gen/matplotlib.pyplot.html\n",
    "6. https://docs.scipy.org/doc/scipy/reference/stats.html\n",
    "7. https://docs.sympy.org/latest/index.html"
   ]
  }
 ],
 "metadata": {
  "kernelspec": {
   "display_name": "Python 3 (ipykernel)",
   "language": "python",
   "name": "python3"
  },
  "language_info": {
   "codemirror_mode": {
    "name": "ipython",
    "version": 3
   },
   "file_extension": ".py",
   "mimetype": "text/x-python",
   "name": "python",
   "nbconvert_exporter": "python",
   "pygments_lexer": "ipython3",
   "version": "3.9.13"
  }
 },
 "nbformat": 4,
 "nbformat_minor": 5
}
