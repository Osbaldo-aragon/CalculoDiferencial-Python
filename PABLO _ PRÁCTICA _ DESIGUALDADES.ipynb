{
 "cells": [
  {
   "cell_type": "markdown",
   "id": "fb89f0ae",
   "metadata": {},
   "source": [
    "### <div style=\"text-align: center\">PRÁCTICA NO. 1:  DESIGUALDADES</div>\n",
    "### <div style=\"text-align: center\">Competencia: 1. Números reales</div>\n",
    "Tema(s): 1.1.\tPropiedades de las desigualdades. | 1.2.\tResolución de desigualdades de primer y segundo grado con una incógnita. | 1.3.\tResolución de desigualdades que incluyan valor absoluto.\n",
    "\n",
    "Cantidad de alumnos por equipo: 2\n",
    "<div style=\"text-align: right\">Elaborado por:</div>\n",
    "<div style=\"text-align: right\">Marcial Saúl Garcia Chairez</div>\n",
    "<div style=\"text-align: right\">Pablo César Ibarra Nava</div>"
   ]
  },
  {
   "cell_type": "markdown",
   "id": "2896d9ef",
   "metadata": {},
   "source": [
    "### 1.INTRODUCCIÓN\n"
   ]
  },
  {
   "cell_type": "markdown",
   "id": "8234bb78",
   "metadata": {},
   "source": [
    "### 2. OBJETIVO (COMPETENCIA)\n",
    "\n",
    "Por medio del software Python, el alumno aplicará las propiedades de las desigualdades para representar las soluciones en forma gráfica y analítica, de desigualdades de primer y segundo grado con una incógnita, así como desigualdades con valor absoluto ."
   ]
  },
  {
   "cell_type": "markdown",
   "id": "fa1b94e9",
   "metadata": {},
   "source": [
    "### 3. MARCO TEÓRICO\n",
    "Una inecuación es una desigualdad matemática con al menos una incógnita. Resolver la inecuación implica obtener los intervalos de la/las incógnitas que cumplen el sentido de la desigualdad. La solución, por lo general, no será un valor concreto sino un\n",
    "intervalo (o un conjunto de intervalos).\n",
    "\n",
    "$x^2 + 2x + 1 \\ge 3x -2$\n",
    "\n",
    "Si a los dos miembros de una inecuación se les suma o resta un mismo número, el resultado es una inecuación equivalente (con la misma solución).\n",
    "\n",
    "$x^2 + 2x + 1 \\ge 3x -2$ es equivalente a $x^2 + 2x + 1 +7 \\ge 3x -2 + 7$\n",
    "\n",
    "Si se les multiplica o divide por un mismo número positivo, el resultado también es equivalente (con la misma solución).\n",
    "\n",
    "$x^2 + 2x + 1 \\ge 3x -2$ es equivalente a $\\frac{x^2 + 2x + 1}{4} \\ge \\frac{3x -2}{4}$\n",
    "\n",
    "Pero si se multiplica o divide por un mismo número negativo, la inecuación equivalente resultante cambia de sentido.\n",
    "\n",
    "$x^2 + 2x + 1 \\ge 3x -2$ cambia de sentido la desiguladad $-(x^2 + 2x + 1) \\le -(3x -2)$\n",
    "\n",
    "**DESIGUALDADES DE PRIMER GRADO**\n",
    "\n",
    "¿Cómo resolver inecuaciones de primer grado (con una sola incógnita)?\n",
    "\n",
    "1. Quitar paréntesis.\n",
    "\n",
    "\n",
    "2. Quitar denominadores.\n",
    "\n",
    "\n",
    "3. Agrupar los términos con incógnita a un lado de la desigualadad y los términos independientes en el otro.\n",
    "\n",
    "\n",
    "4. Operar y despejar la incógnita.\n",
    "\n",
    "\n",
    "5. Obtener la solución de forma gráfica o como intervalos. \n",
    "\n",
    "**EJEMPLO**\n",
    "\n",
    "Resolver  $2x + 1 \\le x + 3$\n",
    "\n",
    "Se desarrolla siguiendo los pasos enunciados anteriormente.\n",
    "\n",
    "$2x + 1 \\le x + 3$\n",
    "\n",
    "$2x - x \\le 3 - 1$\n",
    "\n",
    "$x \\le 2$\n",
    "\n",
    "**Solución:** $( - \\infty ,2]$\n",
    "\n",
    "**EJEMPLO**\n",
    "\n",
    "REsolver $\\frac{x}{2} + \\frac{x + 1}{7} < -2$\n",
    "\n",
    "Operamos siguiendo los pasos enunciados anteriormente.\n",
    "\n",
    "$\\frac{x}{2} + \\frac{x + 1}{7} < -2$\n",
    "\n",
    "$\\frac{7x + 2x + 2}{14} < \\frac{14x - 28}{14}$\n",
    "\n",
    "$7x + 2x - 14x < -28 - 2$\n",
    "\n",
    "$-5x < -30$\n",
    "\n",
    "Cambio de sentido \n",
    "\n",
    "$5x > 30$\n",
    "\n",
    "$x > 6$\n",
    "\n",
    "**Solución:** $(6, \\infty)$\n",
    "\n",
    "**DESIGUALDADES DE SEGUNDO GRADO**\n",
    "\n",
    "Para resolver inecuaciones con la incógnita elevada, como máximo, a la segunda potencia, seguiremos los siguientes pasos.\n",
    "\n",
    "1. Igualamos el polinomio a cero y obtenemos las raíces.\n",
    "\n",
    "\n",
    "2. Representamos las raíces en la recta real. Tomamos un punto de cada intervalo y evaluamos el signo que toma el polinomio en cada intervalo.\n",
    "\n",
    "\n",
    "3. La solución será el/los intervalo/s donde el polinomio tome el mismo signo que la desigualdad.\n",
    "\n",
    "\n",
    "**EJEMPLO**\n",
    "\n",
    "Resolver  $x^2 + 3x - 4 > 0$\n",
    "\n",
    "Obtenemos las raíces del polinomio de segundo grado:\n",
    "\n",
    "$x = -4 , x = 1$\n",
    "\n",
    "Evaluamos el polinomio $P(x) = x^2 + 3x - 4$ en los siguientes intervalos y vemos donde mantiene el signo \"mayor que\" de la desigualdad.\n",
    "\n",
    "$(-\\infty,-4)$ .... $P(-10) > 0$ .... cumple el signo de la desigualdad.\n",
    "\n",
    "$(-4,1)$ .... $P(0) < 0$ .... no se cumple el signo de la desigualdad.\n",
    "\n",
    "$(1,\\infty)$ .... $P(2) > 0$ .... cumple el signo de la desigualdad.\n",
    "\n",
    "Por lo tanto, **la solución final es:**\n",
    "\n",
    "$(-\\infty,-4) \\ \\ U \\ \\ (1, \\infty)$\n",
    "\n",
    "\n",
    "**DESIGUALDADES DE VALOR ABSOLUTO**\n",
    "\n",
    "Una desigualdad de valor absoluto es una desigualdad que tiene un signo de valor absoluto con una variable dentro.\n",
    "\n",
    "Cuando se resuelven desigualdades de valor absoluto, hay dos casos a considerar.\n",
    "\n",
    " \n",
    "- Caso 1: La expresión dentro de los símbolos de valor absoluto es positiva.\n",
    "\n",
    " \n",
    "- Caso 2: La expresión dentro de los símbolos de valor absoluto es negativa.\n",
    "\n",
    " \n",
    "La solución es la intersección de las soluciones de estos dos casos. \n",
    "\n",
    "En otras palabras, para cualesquiera números reales a y b, si |a| < b entonces a < b y a > -b\n",
    "\n",
    "**EJEMPLO**\n",
    "\n",
    "Resolver  $ |6x - 11| < 5$\n",
    "\n",
    "Sabiendo que |x| < k, entonces -k < x < k\n",
    "\n",
    "$-5 < 6x - 11 < 5$\n",
    "\n",
    "$-5 + 11 < 6x < 5 + 11$\n",
    "\n",
    "$6 < 6x < 16$\n",
    "\n",
    "$\\frac{6}{6} < x < \\frac{16}{6}$\n",
    "\n",
    "$1 < x < \\frac{8}{3}$\n",
    "\n",
    "Por lo que **la solución es:**\n",
    "\n",
    "$(1,\\frac{8}{3})$\n",
    "\n",
    "**EJEMPLO**\n",
    "\n",
    "Resolver  $ |5x + 2| > 7$\n",
    "\n",
    "Sabiendo que |x| > k entonces k < x  o  x < -k\n",
    "\n",
    "$7 < 5x + 2 ............ 5x + 2 < -7$\n",
    "\n",
    "$7 - 2 < 5x ............ 5x < -7 - 2$\n",
    "\n",
    "$5 < 5x ............ 5x < -9$\n",
    "\n",
    "$\\frac{5}{5} < x ......... x < \\frac{-9}{5}$\n",
    "\n",
    "$1 < x ................ x < -\\frac{9}{5}$\n",
    "\n",
    "Por lo que **la solución es:**\n",
    "\n",
    "$(-\\infty,-\\frac{9}{5}) \\ \\ U \\ \\  (1,\\infty)$\n"
   ]
  },
  {
   "cell_type": "markdown",
   "id": "be6d11ad",
   "metadata": {},
   "source": [
    "## 4. PROCEDIMIENTO (DESCRIPCIÓN)\n",
    "### EJEMPLOS DESARROLLADOS"
   ]
  },
  {
   "cell_type": "markdown",
   "id": "ecf3866f",
   "metadata": {},
   "source": [
    "### DESIGUALDADES DE PRIMER GRADO"
   ]
  },
  {
   "cell_type": "markdown",
   "id": "e8731102",
   "metadata": {},
   "source": [
    "**EJEMPLO 1.** Encuentre los valores de x que cumplen la inecuación  $8 - 2𝑥 \\le 6x + 32$"
   ]
  },
  {
   "cell_type": "markdown",
   "id": "f411db7d",
   "metadata": {},
   "source": [
    "**Paso 1. Importar librerías**"
   ]
  },
  {
   "cell_type": "code",
   "execution_count": 16,
   "id": "c987ba5b",
   "metadata": {},
   "outputs": [],
   "source": [
    "from sympy import *\n",
    "x = Symbol('x')"
   ]
  },
  {
   "cell_type": "markdown",
   "id": "ededad8a",
   "metadata": {},
   "source": [
    "**Paso 2. Se escribe el siguiente código:**"
   ]
  },
  {
   "cell_type": "code",
   "execution_count": 17,
   "id": "ef07e2f7",
   "metadata": {},
   "outputs": [
    {
     "data": {
      "text/latex": [
       "$\\displaystyle 8 - 2 x \\leq 6 x + 32$"
      ],
      "text/plain": [
       "8 - 2*x <= 6*x + 32"
      ]
     },
     "execution_count": 17,
     "metadata": {},
     "output_type": "execute_result"
    }
   ],
   "source": [
    "expr = 8 -  2*x <= 6*x + 32\n",
    "expr"
   ]
  },
  {
   "cell_type": "markdown",
   "id": "2543f417",
   "metadata": {},
   "source": [
    "**Paso 3. Convertir expresión de lineal a polinomial, se resta la expresión izquierda a la derecha (despeje) y se convierte. expr.lhs se refiere a la parte izquierda de la expresión, expr.rhs a la derecha**"
   ]
  },
  {
   "cell_type": "code",
   "execution_count": 18,
   "id": "466af919",
   "metadata": {},
   "outputs": [
    {
     "data": {
      "text/latex": [
       "$\\displaystyle \\operatorname{Poly}{\\left( -8 x - 24, x, domain=\\mathbb{Z} \\right)}$"
      ],
      "text/plain": [
       "Poly(-8*x - 24, x, domain='ZZ')"
      ]
     },
     "execution_count": 18,
     "metadata": {},
     "output_type": "execute_result"
    }
   ],
   "source": [
    "P1 = Poly(expr.lhs - expr.rhs)\n",
    "P1"
   ]
  },
  {
   "cell_type": "markdown",
   "id": "5d6fb656",
   "metadata": {},
   "source": [
    "`expr.rel_op` se refiere al operador relacional de la expresión en este caso $\\le$"
   ]
  },
  {
   "cell_type": "markdown",
   "id": "61f36bf1",
   "metadata": {},
   "source": [
    "**Paso 4. Se escribe el siguiente código para que arroje la solución:**"
   ]
  },
  {
   "cell_type": "code",
   "execution_count": 20,
   "id": "3c027854",
   "metadata": {
    "scrolled": true
   },
   "outputs": [
    {
     "data": {
      "text/plain": [
       "[Interval(-3, oo)]"
      ]
     },
     "execution_count": 20,
     "metadata": {},
     "output_type": "execute_result"
    }
   ],
   "source": [
    "Sol = solve_poly_inequality(P1,expr.rel_op)\n",
    "Sol"
   ]
  },
  {
   "cell_type": "markdown",
   "id": "119c4ca2",
   "metadata": {},
   "source": [
    "### DESIGUALDADES DE SEGUNDO GRADO"
   ]
  },
  {
   "cell_type": "markdown",
   "id": "106939ff",
   "metadata": {},
   "source": [
    "**EJEMPLO 2.** Encuentre los valores de x que cumplen la inecuación $x^2 - 15 \\ge 2x$"
   ]
  },
  {
   "cell_type": "markdown",
   "id": "f42589c8",
   "metadata": {},
   "source": [
    "**Paso 1. Importar librerías**"
   ]
  },
  {
   "cell_type": "code",
   "execution_count": null,
   "id": "8ca5bd9e",
   "metadata": {},
   "outputs": [],
   "source": [
    "from sympy import *\n",
    "x = Symbol('x')"
   ]
  },
  {
   "cell_type": "markdown",
   "id": "15ee04c7",
   "metadata": {},
   "source": [
    "**Paso 2. Se escribe el siguiente código:**"
   ]
  },
  {
   "cell_type": "code",
   "execution_count": 4,
   "id": "0a37f9d9",
   "metadata": {},
   "outputs": [
    {
     "data": {
      "text/latex": [
       "$\\displaystyle x^{2} - 15 \\geq 2 x$"
      ],
      "text/plain": [
       "x**2 - 15 >= 2*x"
      ]
     },
     "execution_count": 4,
     "metadata": {},
     "output_type": "execute_result"
    }
   ],
   "source": [
    "expr = x**2 - 15 >= 2*x\n",
    "expr"
   ]
  },
  {
   "cell_type": "markdown",
   "id": "c335bb0d",
   "metadata": {},
   "source": [
    "**Paso 3. Convertir expresión de lineal a polinomial, se resta la expresión izquierda a la derecha (despeje) y se convierte. expr.lhs se refiere a la parte izquierda de la expresión, expr.rhs a la derecha**"
   ]
  },
  {
   "cell_type": "code",
   "execution_count": 6,
   "id": "8bd65333",
   "metadata": {},
   "outputs": [
    {
     "data": {
      "text/latex": [
       "$\\displaystyle \\operatorname{Poly}{\\left( x^{2} - 2 x - 15, x, domain=\\mathbb{Z} \\right)}$"
      ],
      "text/plain": [
       "Poly(x**2 - 2*x - 15, x, domain='ZZ')"
      ]
     },
     "execution_count": 6,
     "metadata": {},
     "output_type": "execute_result"
    }
   ],
   "source": [
    "P2 = Poly(expr.lhs - expr.rhs)\n",
    "P2"
   ]
  },
  {
   "cell_type": "markdown",
   "id": "7f71c48f",
   "metadata": {},
   "source": [
    "**Paso 4. Se escribe el siguiente código para que arroje la solución:**"
   ]
  },
  {
   "cell_type": "code",
   "execution_count": 9,
   "id": "4f47cef6",
   "metadata": {},
   "outputs": [
    {
     "data": {
      "text/plain": [
       "[Interval(-oo, -3), Interval(5, oo)]"
      ]
     },
     "execution_count": 9,
     "metadata": {},
     "output_type": "execute_result"
    }
   ],
   "source": [
    "Sol = solve_poly_inequality(P2,expr.rel_op)\n",
    "Sol"
   ]
  },
  {
   "cell_type": "markdown",
   "id": "ee868a2f",
   "metadata": {},
   "source": [
    "### DESIGUALDADES DE VALOR ABSOLUTO"
   ]
  },
  {
   "cell_type": "markdown",
   "id": "1fd04f2f",
   "metadata": {},
   "source": [
    "**EJEMPLO 3.** Encuentre los valores de x que cumplen la inecuación con valor absoluto  $4 - |1-x| \\le 1$"
   ]
  },
  {
   "cell_type": "markdown",
   "id": "9e2a4b35",
   "metadata": {},
   "source": [
    "**PASO 1: Importar librerías**"
   ]
  },
  {
   "cell_type": "code",
   "execution_count": 1,
   "id": "713d6a61",
   "metadata": {},
   "outputs": [],
   "source": [
    "from sympy import *\n",
    "x = Symbol('x')"
   ]
  },
  {
   "cell_type": "markdown",
   "id": "2cac854a",
   "metadata": {},
   "source": [
    "**PASO 2: Se escribe el siguiente código:**"
   ]
  },
  {
   "cell_type": "code",
   "execution_count": 10,
   "id": "0c36bce7",
   "metadata": {},
   "outputs": [
    {
     "data": {
      "text/latex": [
       "$\\displaystyle 4 - \\left|{x - 1}\\right| \\leq 1$"
      ],
      "text/plain": [
       "4 - Abs(x - 1) <= 1"
      ]
     },
     "execution_count": 10,
     "metadata": {},
     "output_type": "execute_result"
    }
   ],
   "source": [
    "ex = 4 - Abs(1-x) <= 1\n",
    "ex"
   ]
  },
  {
   "cell_type": "markdown",
   "id": "c1278f85",
   "metadata": {},
   "source": [
    "**Paso 3. Convertir expresión de lineal a polinomial, se resta la expresión izquierda a la derecha (despeje) y se convierte. expr.lhs se refiere a la parte izquierda de la expresión, expr.rhs a la derecha**"
   ]
  },
  {
   "cell_type": "code",
   "execution_count": 11,
   "id": "2f037052",
   "metadata": {},
   "outputs": [
    {
     "data": {
      "text/latex": [
       "$\\displaystyle \\operatorname{Poly}{\\left( -\\left|{x - 1}\\right| + 3, \\left|{x - 1}\\right|, domain=\\mathbb{Z} \\right)}$"
      ],
      "text/plain": [
       "Poly(-(Abs(x - 1)) + 3, Abs(x - 1), domain='ZZ')"
      ]
     },
     "execution_count": 11,
     "metadata": {},
     "output_type": "execute_result"
    }
   ],
   "source": [
    "P2 = Poly(ex.lhs - ex.rhs)\n",
    "P2"
   ]
  },
  {
   "cell_type": "markdown",
   "id": "7420b61f",
   "metadata": {},
   "source": [
    "**Paso 4. Se escribe el siguiente código para que arroje la solución:**"
   ]
  },
  {
   "cell_type": "code",
   "execution_count": 2,
   "id": "66e68ea1",
   "metadata": {},
   "outputs": [
    {
     "data": {
      "text/latex": [
       "$\\displaystyle \\left(4 \\leq x \\wedge x < \\infty\\right) \\vee \\left(x \\leq -2 \\wedge -\\infty < x\\right)$"
      ],
      "text/plain": [
       "((4 <= x) & (x < oo)) | ((-oo < x) & (x <= -2))"
      ]
     },
     "execution_count": 2,
     "metadata": {},
     "output_type": "execute_result"
    }
   ],
   "source": [
    "reduce_abs_inequality(3 - Abs(1-x),'<=',x)"
   ]
  },
  {
   "cell_type": "markdown",
   "id": "f46d56f6",
   "metadata": {},
   "source": [
    "## EJERCICIOS A DESARROLLAR"
   ]
  },
  {
   "cell_type": "markdown",
   "id": "f124c8bf",
   "metadata": {},
   "source": [
    "Determine la solución de las siguientes inecuaciones:\n",
    "1.  $\\ \\ \\ 3x + 7 \\ge 2 - 8x$\n",
    "\n",
    "\n",
    "\n",
    "2.  $\\ \\ \\  \\frac{x+1}{2} > 4$\n",
    "\n",
    "\n",
    "\n",
    "3.  $\\ \\ \\ 6 - 5x < 8x + 7$\n",
    "\n",
    "\n",
    "\n",
    "4.  $\\ \\ \\  x^2 - 108 \\ge 3x$\n",
    "\n",
    "\n",
    "\n",
    "5.  $\\ \\ \\  0 < 15.9375 - x^2 - 0.5x$\n",
    "\n",
    "\n",
    "\n",
    "6. $\\ \\ \\  15x^2 + 40 \\le 49x$\n",
    "\n",
    "\n",
    "\n",
    "7. $\\ \\ \\ x^2(9-3x) \\ge -12x$\n",
    "\n",
    "\n",
    "\n",
    "8.  $\\ \\ \\ 10 - 3|2x-3| < 4$\n",
    "\n",
    "\n",
    "\n",
    "9.  $\\ \\ \\ 2 - |4 - x| \\le -5$\n",
    "\n",
    "\n",
    "\n",
    "10.  $\\ \\ \\ 2 - |4x - 1| > 9$\n",
    "\n"
   ]
  },
  {
   "cell_type": "markdown",
   "id": "9026bc91",
   "metadata": {},
   "source": [
    "### 5. RESULTADOS Y CONCLUSIONES\n",
    "\n",
    "- Demostrar con evidencia los resultados obtenidos\n",
    "\n",
    "\n",
    "\n",
    "\n",
    "\n",
    "\n",
    "\n",
    "- **RESPONDA LAS SIGUIENTES PREGUNTAS**\n",
    "\n",
    "\n",
    "  1. ¿Que es una desigualdad matemática?\n",
    "  \n",
    "  \n",
    "  2. ¿Qué significa resolver una desigualdad?\n",
    "  \n",
    "  \n",
    "  3. ¿Qué se obtiene al resolver una desigualdad?\n",
    "  \n",
    "    \n",
    "  4. ¿Cómo se comprueba una desigualdad?\n",
    "  \n",
    "  \n",
    "  5. ¿Dónde se pueden usar las desigualdades matemáticas?\n",
    "\n"
   ]
  },
  {
   "cell_type": "markdown",
   "id": "7efe7207",
   "metadata": {},
   "source": [
    "### 6. REFERENCIAS BIBLIOGRÁFICAS\n",
    "Zill, D. G., Wright, W.S. (2011). Matemáticas 1 : Cálculo Diferencial. México. McGraw Hill. \n",
    "\n",
    "Zill, D. Wright, W. (2011). Cálculo de una variable: Trascendentes tempranas. (4a Ed.) México. Mc Graw Hill."
   ]
  }
 ],
 "metadata": {
  "kernelspec": {
   "display_name": "Python 3 (ipykernel)",
   "language": "python",
   "name": "python3"
  },
  "language_info": {
   "codemirror_mode": {
    "name": "ipython",
    "version": 3
   },
   "file_extension": ".py",
   "mimetype": "text/x-python",
   "name": "python",
   "nbconvert_exporter": "python",
   "pygments_lexer": "ipython3",
   "version": "3.9.13"
  }
 },
 "nbformat": 4,
 "nbformat_minor": 5
}
